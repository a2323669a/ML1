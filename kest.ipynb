{
  "cells": [
    {
      "cell_type": "code",
      "execution_count": 3,
      "metadata": {
        "pycharm": {
          "is_executing": false
        }
      },
      "outputs": [],
      "source": [
        "import pandas as pd\n",
        "import numpy as np\n",
        "\n",
        "df \u003d pd.read_csv(\"./data/salary/train.csv\",encoding\u003d\u0027Big5\u0027)"
      ]
    },
    {
      "cell_type": "code",
      "execution_count": 4,
      "metadata": {
        "pycharm": {
          "is_executing": false
        }
      },
      "outputs": [
        {
          "data": {
            "text/plain": "age                int64\nworkclass         object\nfnlwgt             int64\neducation         object\neducation_num      int64\nmarital_status    object\noccupation        object\nrelationship      object\nrace              object\nsex               object\ncapital_gain       int64\ncapital_loss       int64\nhours_per_week     int64\nnative_country    object\nincome            object\ndtype: object"
          },
          "metadata": {},
          "output_type": "execute_result",
          "execution_count": 4
        }
      ],
      "source": [
        "df.dtypes"
      ]
    },
    {
      "cell_type": "code",
      "execution_count": 5,
      "metadata": {
        "pycharm": {
          "is_executing": false
        }
      },
      "outputs": [
        {
          "name": "stdout",
          "text": [
            "int64\nobject\nint64\nobject\nint64\nobject\nobject\nobject\nobject\nobject\nint64\nint64\nint64\nobject\nobject\n"
          ],
          "output_type": "stream"
        }
      ],
      "source": [
        "for i in df.columns.values:\n",
        "    print(df[i].dtype)"
      ]
    },
    {
      "cell_type": "code",
      "execution_count": 6,
      "metadata": {
        "pycharm": {
          "is_executing": false
        }
      },
      "outputs": [
        {
          "data": {
            "text/plain": "{\u0027 Amer-Indian-Eskimo\u0027: Int64Index([   15,   212,   226,   447,   516,   565,   596,   607,   903,\n               940,\n             ...\n             30997, 31087, 31358, 31915, 32008, 32231, 32242, 32249, 32425,\n             32551],\n            dtype\u003d\u0027int64\u0027, length\u003d311),\n \u0027 Asian-Pac-Islander\u0027: Int64Index([   11,    14,    27,    93,   139,   152,   162,   163,   213,\n               255,\n             ...\n             32327, 32337, 32370, 32376, 32428, 32457, 32486, 32531, 32533,\n             32553],\n            dtype\u003d\u0027int64\u0027, length\u003d1039),\n \u0027 Black\u0027: Int64Index([    3,     4,     6,    10,    13,    21,    22,    31,    34,\n                45,\n             ...\n             32499, 32505, 32508, 32511, 32514, 32521, 32535, 32537, 32538,\n             32541],\n            dtype\u003d\u0027int64\u0027, length\u003d3124),\n \u0027 Other\u0027: Int64Index([   50,   233,   356,   404,   530,   784,  1344,  1624,  1900,\n              2452,\n             ...\n             31641, 31831, 31873, 31985, 32021, 32075, 32232, 32263, 32432,\n             32544],\n            dtype\u003d\u0027int64\u0027, length\u003d271),\n \u0027 White\u0027: Int64Index([    0,     1,     2,     5,     7,     8,     9,    12,    16,\n                17,\n             ...\n             32549, 32550, 32552, 32554, 32555, 32556, 32557, 32558, 32559,\n             32560],\n            dtype\u003d\u0027int64\u0027, length\u003d27816)}"
          },
          "metadata": {},
          "output_type": "execute_result",
          "execution_count": 6
        }
      ],
      "source": [
        "df.groupby(\u0027race\u0027).groups"
      ]
    },
    {
      "cell_type": "code",
      "execution_count": 8,
      "metadata": {
        "pycharm": {
          "is_executing": false
        }
      },
      "outputs": [
        {
          "name": "stdout",
          "text": [
            "hello world\n"
          ],
          "output_type": "stream"
        }
      ],
      "source": [
        "print(\u0027hello world\u0027)"
      ]
    }
  ],
  "metadata": {
    "kernelspec": {
      "display_name": "Python 3",
      "language": "python",
      "name": "python3"
    },
    "language_info": {
      "codemirror_mode": {
        "name": "ipython",
        "version": 3
      },
      "file_extension": ".py",
      "mimetype": "text/x-python",
      "name": "python",
      "nbconvert_exporter": "python",
      "pygments_lexer": "ipython3",
      "version": "3.7.3"
    }
  },
  "nbformat": 4,
  "nbformat_minor": 2
}